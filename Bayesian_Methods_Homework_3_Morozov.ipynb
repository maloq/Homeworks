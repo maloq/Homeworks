{
 "cells": [
  {
   "cell_type": "markdown",
   "metadata": {},
   "source": [
    "## Evaluate quality of prior for conjugate settings"
   ]
  },
  {
   "cell_type": "markdown",
   "metadata": {},
   "source": [
    "1 [1 point]. Select a conjugate prior from list:\n",
    "\n",
    "| #   | Likelihood     | Prior        |       \n",
    "| :-- | :------------- |:-------------| \n",
    "| 1   | Bernoulli     | Beta  | \n",
    "| 2   | Binomial      | Beta  | \n",
    "| 3   | Negative Binomial      | Beta  | \n",
    "| 4   | Poisson       | Gamma | \n",
    "| 5   | Categorical   | Dirichlet | \n",
    "| 6   | Multinomial   | Dirichlet | \n",
    "| 7   | Geometric   | Beta | \n",
    "| 8   | Gaussian with known variance   | Gaussian | \n",
    "| 9   | Gaussian with known mean   | Inverse Gamma | \n",
    "| 10   | Gaussian with known mean   | Scaled Inverse Chi-Squared | \n",
    "| 11   | Gaussian with known mean   | Gamma | \n",
    "| 12   | Gaussian  | Gaussian-Inverse Gamma |\n",
    "| 13   | Gaussian  | Gaussian-Gamma |\n",
    "| 14   | Uniform   | Pareto | \n",
    "| 15   | Weibull with known shape   | Inverse Gamma | \n",
    "| 16   | Log-normal with known precision  | Gaussian | \n",
    "| 17   | Log-normal with known mean  | Gamma | \n",
    "| 18  | Exponential   | Gamma | \n",
    "| 19  | Gamma with known shape   | Gamma | \n",
    "| 20  | Inverse Gamma with known shape   | Gamma | \n",
    "\n",
    "See more information at\n",
    "https://en.wikipedia.org/wiki/Conjugate_prior\n"
   ]
  },
  {
   "cell_type": "markdown",
   "metadata": {},
   "source": [
    "2. [1 point] Code sampling from selected distribution giving parameters $p(x | \\theta)$\n",
    "3. [1 points] Write a procedure for MLE estimates for this distribution.\n",
    "4. [2 points] Write a procedure for evaluation of posterior for selected model given selected prior and likelihood.\n",
    "5. [2 points] Plot posteriors wrt sample size. Use analytical formulas.\n",
    "6. [4 points] Compare quality of MLE estimate, MAP estimate and Bayesian estimate (mean value of a posterior) in terms of the squared loss $\\sum_{i = 1}^n (\\theta_i - \\hat{\\theta}_i)^2$ for each parameter separately w.r.t sample size. Plot your results. Use analytical formulas everywhere if possible. "
   ]
  },
  {
   "cell_type": "markdown",
   "metadata": {},
   "source": [
    "My number is 7 (Geometric and Beta)."
   ]
  },
  {
   "cell_type": "code",
   "execution_count": 1,
   "metadata": {},
   "outputs": [],
   "source": [
    "import numpy as np\n",
    "import matplotlib.pyplot as plt\n",
    "%matplotlib inline\n",
    "from scipy.stats import beta\n",
    "import warnings\n",
    "warnings.filterwarnings(\"ignore\")"
   ]
  },
  {
   "cell_type": "markdown",
   "metadata": {},
   "source": [
    "Let's define a class for a geometric distribution and related functions."
   ]
  },
  {
   "cell_type": "code",
   "execution_count": 2,
   "metadata": {},
   "outputs": [],
   "source": [
    "class GeomDist:\n",
    "    \n",
    "    def __init__(self, p):\n",
    "        self.p = p\n",
    "    \n",
    "    def generate(self, size=1):\n",
    "        '''\n",
    "        Generating a dataset\n",
    "        '''\n",
    "        return np.random.geometric(self.p, size=size)\n",
    "    \n",
    "#     def get_prob_from_data(self, n):\n",
    "#         '''\n",
    "#         Given sample from distribution we try to estimate \n",
    "#         '''\n",
    "#         p = self.p\n",
    "#         q = 1 - self.p\n",
    "#         prob = q ** (n - 1) * p\n",
    "#         return prob\n",
    "    \n",
    "#     def get_likelihood_log(self, samples):\n",
    "#         probs = gd.get_prob_from_data(samples)\n",
    "#         probs_log = np.log(probs)\n",
    "#         likelihood_log = probs_log.sum()\n",
    "        \n",
    "#         return likelihood_log\n",
    "    \n",
    "    def estimate_p_mle(self, samples):\n",
    "        '''\n",
    "        Estimation of $p$ for given data with MLE\n",
    "        '''\n",
    "        return 1 / samples.mean()\n",
    "    \n",
    "    def get_posterior_params(self, samples, prior_alpha=1, prior_beta=1):\n",
    "        '''\n",
    "        Bayes estimation of posterior.\n",
    "        Returns parameters $alpha$ and $beta$ for posterior beta distribution.\n",
    "        '''\n",
    "        alpha = prior_alpha + len(samples)\n",
    "        beta = prior_beta + samples.sum() - len(samples)\n",
    "        return alpha, beta"
   ]
  },
  {
   "cell_type": "markdown",
   "metadata": {},
   "source": [
    "Likelihood function $L(x_1, x_2, \\dots, x_n| p) = p^m(1-p)^{(\\sum_{i=1}^{m}x_i) - m}$"
   ]
  },
  {
   "cell_type": "markdown",
   "metadata": {},
   "source": [
    "MLE estimation is $p = \\frac{m}{\\sum_{i=1}^{m}x_i} = \\frac1{\\overline{x}}$."
   ]
  },
  {
   "cell_type": "markdown",
   "metadata": {},
   "source": [
    "Prior distribution is B(1, 1), a.k.a. uniform distribution. Posterior is beta with parameters $\\alpha = 1 + m, \\beta = 1 + \\sum_{i=1}^{m}x_i - m$."
   ]
  },
  {
   "cell_type": "markdown",
   "metadata": {},
   "source": [
    "We are considering sample size from $10$ to $10^6$.\n",
    "\n",
    "Let $p=0.1$."
   ]
  },
  {
   "cell_type": "code",
   "execution_count": 3,
   "metadata": {},
   "outputs": [],
   "source": [
    "points_posterior_dict = {}\n",
    "n_samples_list = [10 ** i for i in range(1, 7)]"
   ]
  },
  {
   "cell_type": "code",
   "execution_count": 4,
   "metadata": {},
   "outputs": [],
   "source": [
    "actual_p = 0.1\n",
    "gd = GeomDist(p=actual_p)\n",
    "\n",
    "for n_samples in n_samples_list:\n",
    "    samples = gd.generate(n_samples)\n",
    "    alpha_posterior, beta_posterior = gd.get_posterior_params(samples)\n",
    "    posterior = beta(alpha_posterior, beta_posterior)\n",
    "    points_posterior_dict[n_samples] = posterior"
   ]
  },
  {
   "cell_type": "code",
   "execution_count": 5,
   "metadata": {},
   "outputs": [],
   "source": [
    "points = np.linspace(0, 1, 1001)"
   ]
  },
  {
   "cell_type": "markdown",
   "metadata": {},
   "source": [
    "Now we can draw posterior's PDF wrt sample size."
   ]
  },
  {
   "cell_type": "code",
   "execution_count": 6,
   "metadata": {},
   "outputs": [
    {
     "data": {
      "image/png": "[encoded data removed]",
      "text/plain": [
       "<Figure size 1080x864 with 6 Axes>"
      ]
     },
     "metadata": {},
     "output_type": "display_data"
    }
   ],
   "source": [
    "fig, ax = plt.subplots(len(points_posterior_dict), 1, sharex=True)\n",
    "fig.set_figheight(12)\n",
    "fig.set_figwidth(15)\n",
    "\n",
    "for i, n_samples in enumerate(points_posterior_dict):\n",
    "    posterior = points_posterior_dict[n_samples]\n",
    "    pdfs = [posterior.pdf(point) for point in points]\n",
    "    ax[i].plot(points, pdfs, label=f'n_samples = {n_samples}')\n",
    "    ax[i].axvline(actual_p, alpha=0.5, linestyle='dashed', color='r', label='actual p')\n",
    "    ax[i].legend()\n",
    "\n",
    "fig.suptitle('Posterior PDF wrt sample size')\n",
    "plt.tight_layout(rect=[0, 0, 1, 0.97])"
   ]
  },
  {
   "cell_type": "markdown",
   "metadata": {},
   "source": [
    "Now we can compare MLE, MAP and Bayes estimations. In order to do that for each sample size we calculate estimation for p from 0.01 to 0.99 and consider MSE."
   ]
  },
  {
   "cell_type": "code",
   "execution_count": 7,
   "metadata": {},
   "outputs": [],
   "source": [
    "p_list = np.linspace(0.01, 0.99, 99)\n",
    "n_samples_list = [2 ** i for i in range(1, 20)]"
   ]
  },
  {
   "cell_type": "code",
   "execution_count": 8,
   "metadata": {},
   "outputs": [
    {
     "ename": "ModuleNotFoundError",
     "evalue": "No module named 'xarray'",
     "output_type": "error",
     "traceback": [
      "\u001b[1;31m---------------------------------------------------------------------------\u001b[0m",
      "\u001b[1;31mModuleNotFoundError\u001b[0m                       Traceback (most recent call last)",
      "\u001b[1;32m<ipython-input-8-b1df94ceb3a2>\u001b[0m in \u001b[0;36m<module>\u001b[1;34m()\u001b[0m\n\u001b[0;32m      1\u001b[0m \u001b[1;32mfrom\u001b[0m \u001b[0mcollections\u001b[0m \u001b[1;32mimport\u001b[0m \u001b[0mdefaultdict\u001b[0m\u001b[1;33m\u001b[0m\u001b[0m\n\u001b[0;32m      2\u001b[0m \u001b[1;32mimport\u001b[0m \u001b[0mpandas\u001b[0m \u001b[1;32mas\u001b[0m \u001b[0mpd\u001b[0m\u001b[1;33m\u001b[0m\u001b[0m\n\u001b[1;32m----> 3\u001b[1;33m \u001b[1;32mimport\u001b[0m \u001b[0mxarray\u001b[0m \u001b[1;32mas\u001b[0m \u001b[0mxr\u001b[0m\u001b[1;33m\u001b[0m\u001b[0m\n\u001b[0m",
      "\u001b[1;31mModuleNotFoundError\u001b[0m: No module named 'xarray'"
     ]
    }
   ],
   "source": [
    "from collections import defaultdict\n",
    "import pandas as pd\n",
    "import xarray as xr"
   ]
  },
  {
   "cell_type": "code",
   "execution_count": null,
   "metadata": {},
   "outputs": [],
   "source": [
    "estimates = defaultdict(dict)"
   ]
  },
  {
   "cell_type": "code",
   "execution_count": null,
   "metadata": {},
   "outputs": [],
   "source": [
    "for actual_p in p_list:\n",
    "    for n_samples in n_samples_list:\n",
    "        gd = GeomDist(p=actual_p)\n",
    "        samples = gd.generate(n_samples)\n",
    "        estimate_mle = gd.estimate_p_mle(samples) #  MLE estimation from samples\n",
    "        alpha_posterior, beta_posterior = gd.get_posterior_params(samples)\n",
    "#         posterior = beta(alpha_posterior, beta_posterior)\n",
    "        estimate_bayes = alpha_posterior / (alpha_posterior + beta_posterior) #  Mean for beta distribution\n",
    "        estimate_map = (alpha_posterior - 1) / (alpha_posterior + beta_posterior - 2) #  MAP for beta distribution\n",
    "        \n",
    "        estimations = {\n",
    "            'bayes': estimate_bayes,\n",
    "            'mle': estimate_mle,\n",
    "            'map': estimate_map,\n",
    "            'actual_p': actual_p,\n",
    "        }\n",
    "        \n",
    "        estimates[actual_p][n_samples] = estimations"
   ]
  },
  {
   "cell_type": "code",
   "execution_count": null,
   "metadata": {},
   "outputs": [],
   "source": [
    "xa = pd.Panel(estimates).to_xarray()"
   ]
  },
  {
   "cell_type": "code",
   "execution_count": null,
   "metadata": {},
   "outputs": [],
   "source": [
    "methods_list = ['mle', 'map', 'bayes']\n",
    "df_errors = ((xa.loc[:, methods_list, :] - xa.loc[:, 'actual_p', :]) ** 2).mean(axis=0).to_dataframe(name='error')"
   ]
  },
  {
   "cell_type": "code",
   "execution_count": null,
   "metadata": {},
   "outputs": [],
   "source": [
    "df_errors;"
   ]
  },
  {
   "cell_type": "code",
   "execution_count": null,
   "metadata": {
    "scrolled": false
   },
   "outputs": [],
   "source": [
    "plt.figure(figsize=(15,10))\n",
    "plt.yscale('log')\n",
    "plt.xscale('log')\n",
    "alpha=1\n",
    "plt.plot(df_errors.loc['bayes'], label='Bayes', alpha=alpha, linestyle='solid', lw=3)\n",
    "plt.plot(df_errors.loc['mle'], label='MLE', alpha=alpha, linestyle='--', lw=3, color='m')\n",
    "plt.plot(df_errors.loc['map'], label='MAP', alpha=alpha, linestyle=':', lw=3, color='pink')\n",
    "plt.legend()\n",
    "plt.suptitle('MSE wrt sample size for different methods')\n",
    "plt.ylabel('MSE')\n",
    "plt.xlabel('Sample size')\n",
    "plt.tight_layout(rect=[0, 0, 1, 0.97])"
   ]
  },
  {
   "cell_type": "markdown",
   "metadata": {},
   "source": [
    "It's clear from the graph, that MLE and MAP estimations are identical. Bayes estimation is slightly better for small number of samples."
   ]
  }
 ],
 "metadata": {
  "kernelspec": {
   "display_name": "Python 3",
   "language": "python",
   "name": "python3"
  },
  "language_info": {
   "codemirror_mode": {
    "name": "ipython",
    "version": 3
   },
   "file_extension": ".py",
   "mimetype": "text/x-python",
   "name": "python",
   "nbconvert_exporter": "python",
   "pygments_lexer": "ipython3",
   "version": "3.6.5"
  }
 },
 "nbformat": 4,
 "nbformat_minor": 2
}
